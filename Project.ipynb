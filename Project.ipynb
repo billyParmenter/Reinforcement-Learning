{
 "cells": [
  {
   "cell_type": "code",
   "execution_count": 1,
   "metadata": {},
   "outputs": [
    {
     "name": "stderr",
     "output_type": "stream",
     "text": [
      "2023-11-23 20:54:38.258500: I tensorflow/core/platform/cpu_feature_guard.cc:182] This TensorFlow binary is optimized to use available CPU instructions in performance-critical operations.\n",
      "To enable the following instructions: AVX2 FMA, in other operations, rebuild TensorFlow with the appropriate compiler flags.\n"
     ]
    }
   ],
   "source": [
    "import gym\n",
    "from dqn_agent import DQN_Agent\n",
    "from agent_handler import Agent_handler\n",
    "import seaborn as sns\n",
    "import matplotlib.pyplot as plt\n",
    "import numpy as np"
   ]
  },
  {
   "cell_type": "markdown",
   "metadata": {},
   "source": [
    "crop </br>\n",
    "increase contrast </br>\n",
    "skip inital frames </br>"
   ]
  },
  {
   "cell_type": "code",
   "execution_count": 2,
   "metadata": {},
   "outputs": [],
   "source": [
    "def describe_env(env: gym.Env):\n",
    "    num_actions = env.action_space.n\n",
    "    obs = env.observation_space\n",
    "    num_obs = env.observation_space.shape\n",
    "\n",
    "    print(\"Observation space: \", obs)\n",
    "    print(\"Observation space size: \", num_obs)\n",
    "    print(\"Number of actions: \", num_actions)\n",
    "\n",
    "    return num_obs, num_actions"
   ]
  },
  {
   "cell_type": "code",
   "execution_count": 3,
   "metadata": {},
   "outputs": [],
   "source": [
    "def plot(results, result_index, window_size, title):\n",
    "  plt.figure(figsize=(25, 10))\n",
    "\n",
    "  for result in results:\n",
    "      sns.lineplot(np.convolve(result[result_index], np.ones(window_size) / window_size, mode='same'), label=f\"(LR, EF) {(result[3]) }\")\n",
    "      \n",
    "  plt.title(title)\n",
    "  plt.legend()\n",
    "  plt.show()"
   ]
  },
  {
   "cell_type": "code",
   "execution_count": 4,
   "metadata": {},
   "outputs": [
    {
     "name": "stderr",
     "output_type": "stream",
     "text": [
      "A.L.E: Arcade Learning Environment (version 0.8.1+53f58b7)\n",
      "[Powered by Stella]\n"
     ]
    },
    {
     "name": "stdout",
     "output_type": "stream",
     "text": [
      "Observation space:  Box(0, 255, (210, 160, 3), uint8)\n",
      "Observation space size:  (210, 160, 3)\n",
      "Number of actions:  9\n"
     ]
    }
   ],
   "source": [
    "\n",
    "env = gym.make('MsPacman-v4', render_mode='rgb_array')\n",
    "\n",
    "num_obs, num_actions = describe_env(env)"
   ]
  },
  {
   "cell_type": "code",
   "execution_count": 5,
   "metadata": {},
   "outputs": [
    {
     "data": {
      "text/plain": [
       "(210, 160, 3)"
      ]
     },
     "execution_count": 5,
     "metadata": {},
     "output_type": "execute_result"
    }
   ],
   "source": [
    "num_obs"
   ]
  },
  {
   "cell_type": "code",
   "execution_count": 6,
   "metadata": {},
   "outputs": [
    {
     "name": "stderr",
     "output_type": "stream",
     "text": [
      "/home/billy/src/FML/CSCN8010/venv/tensorflow_cpu/lib/python3.10/site-packages/gym/utils/passive_env_checker.py:289: UserWarning: \u001b[33mWARN: No render fps was declared in the environment (env.metadata['render_fps'] is None or not defined), rendering may occur at inconsistent fps.\u001b[0m\n",
      "  logger.warn(\n"
     ]
    },
    {
     "data": {
      "text/plain": [
       "(171, 160, 3)"
      ]
     },
     "execution_count": 6,
     "metadata": {},
     "output_type": "execute_result"
    }
   ],
   "source": [
    "vertical_crop_start   = 0       # @param{type:\"integer\"}\n",
    "vertical_crop_end     = 171       # @param{type:\"integer\"}\n",
    "horizontal_crop_start = 0         # @param{type:\"integer\"}\n",
    "horizontal_crop_end   = 160       # @param{type:\"integer\"}\n",
    "\n",
    "env.reset()\n",
    "obs = env.render()\n",
    "\n",
    "cropped_obs = obs[vertical_crop_start:vertical_crop_end, horizontal_crop_start:horizontal_crop_end].shape\n",
    "cropped_obs"
   ]
  },
  {
   "cell_type": "code",
   "execution_count": 7,
   "metadata": {},
   "outputs": [],
   "source": [
    "\n",
    "dqn_agent = DQN_Agent({\n",
    "  \"num_obs\": cropped_obs,\n",
    "  \"num_actions\": num_actions,\n",
    "  \"learning_rate\": 0.01,\n",
    "  \"discount_factor\": 0.9,\n",
    "  \"exploration_factor\": 0.2\n",
    "})"
   ]
  },
  {
   "cell_type": "code",
   "execution_count": 8,
   "metadata": {},
   "outputs": [],
   "source": [
    "handler = Agent_handler({\n",
    "    \"num_episodes\":250,\n",
    "    \"max_steps\":5,\n",
    "    \"notify_percent\":5,\n",
    "    \"update_rate\": 10,\n",
    "    \"skip\": 30\n",
    "})"
   ]
  },
  {
   "cell_type": "code",
   "execution_count": 9,
   "metadata": {},
   "outputs": [
    {
     "name": "stdout",
     "output_type": "stream",
     "text": [
      "~~~ Training Agent 1 1/1 ~~~\n",
      "\tEpisode 0/250 0%\n",
      "0\n",
      "End of episode, n_steps: 5\n",
      "\n",
      "Done training!\n",
      "\n",
      "\n",
      "1\n",
      "End of episode, n_steps: 5\n",
      "\n",
      "Done training!\n",
      "\n",
      "\n",
      "2\n",
      "End of episode, n_steps: 5\n",
      "\n",
      "Done training!\n",
      "\n",
      "\n",
      "3\n",
      "End of episode, n_steps: 5\n",
      "\n",
      "Done training!\n",
      "\n",
      "\n",
      "4\n",
      "End of episode, n_steps: 5\n",
      "\n",
      "Done training!\n",
      "\n",
      "\n",
      "5\n",
      "End of episode, n_steps: 5\n",
      "\n",
      "Done training!\n",
      "\n",
      "\n",
      "6\n",
      "End of episode, n_steps: 5\n",
      "\n",
      "Done training!\n",
      "\n",
      "\n",
      "7\n",
      "End of episode, n_steps: 5\n",
      "\n",
      "Done training!\n",
      "\n",
      "\n",
      "8\n",
      "End of episode, n_steps: 5\n",
      "\n",
      "Done training!\n",
      "\n",
      "\n",
      "9\n",
      "End of episode, n_steps: 5\n",
      "\n",
      "Done training!\n",
      "\n",
      "\n",
      "10\n",
      "End of episode, n_steps: 5\n",
      "\n",
      "Done training!\n",
      "\n",
      "\n",
      "11\n",
      "\tEpisode 12/250 5%\n",
      "End of episode, n_steps: 5\n",
      "\n",
      "Done training!\n",
      "\n",
      "\n",
      "12\n",
      "End of episode, n_steps: 5\n",
      "\n",
      "Done training!\n",
      "\n",
      "\n",
      "13\n"
     ]
    },
    {
     "ename": "KeyboardInterrupt",
     "evalue": "",
     "output_type": "error",
     "traceback": [
      "\u001b[0;31m---------------------------------------------------------------------------\u001b[0m",
      "\u001b[0;31mKeyboardInterrupt\u001b[0m                         Traceback (most recent call last)",
      "\u001b[1;32m/home/billy/src/RL/packman/Project.ipynb Cell 10\u001b[0m line \u001b[0;36m1\n\u001b[0;32m----> <a href='vscode-notebook-cell:/home/billy/src/RL/packman/Project.ipynb#X11sZmlsZQ%3D%3D?line=0'>1</a>\u001b[0m results \u001b[39m=\u001b[39m handler\u001b[39m.\u001b[39;49mtrain([dqn_agent], env)\n",
      "File \u001b[0;32m~/src/RL/packman/agent_handler.py:81\u001b[0m, in \u001b[0;36mAgent_handler.train\u001b[0;34m(self, agents, env)\u001b[0m\n\u001b[1;32m     78\u001b[0m \u001b[39mfor\u001b[39;00m agent \u001b[39min\u001b[39;00m agents:\n\u001b[1;32m     79\u001b[0m   \u001b[39mprint\u001b[39m(\u001b[39mf\u001b[39m\u001b[39m'\u001b[39m\u001b[39m~~~ Training Agent \u001b[39m\u001b[39m{\u001b[39;00mcount\u001b[39m}\u001b[39;00m\u001b[39m \u001b[39m\u001b[39m{\u001b[39;00mcount\u001b[39m}\u001b[39;00m\u001b[39m/\u001b[39m\u001b[39m{\u001b[39;00m\u001b[39mlen\u001b[39m(agents)\u001b[39m}\u001b[39;00m\u001b[39m ~~~\u001b[39m\u001b[39m'\u001b[39m)\n\u001b[0;32m---> 81\u001b[0m   num_episodes, average_steps, average_return \u001b[39m=\u001b[39m \u001b[39mself\u001b[39;49m\u001b[39m.\u001b[39;49mtrain_agent(agent, env)\n\u001b[1;32m     83\u001b[0m   results\u001b[39m.\u001b[39mappend((num_episodes, average_steps, average_return, \u001b[39mf\u001b[39m\u001b[39m'\u001b[39m\u001b[39mAgent #\u001b[39m\u001b[39m{\u001b[39;00mcount\u001b[39m}\u001b[39;00m\u001b[39m'\u001b[39m))\n\u001b[1;32m     85\u001b[0m \u001b[39mreturn\u001b[39;00m results\n",
      "File \u001b[0;32m~/src/RL/packman/agent_handler.py:28\u001b[0m, in \u001b[0;36mAgent_handler.train_agent\u001b[0;34m(self, agent, env)\u001b[0m\n\u001b[1;32m     25\u001b[0m training \u001b[39m=\u001b[39m \u001b[39mTrue\u001b[39;00m\n\u001b[1;32m     27\u001b[0m \u001b[39mfor\u001b[39;00m _ \u001b[39min\u001b[39;00m \u001b[39mrange\u001b[39m(\u001b[39mself\u001b[39m\u001b[39m.\u001b[39mskip): \u001b[39m# skip the start of each game\u001b[39;00m\n\u001b[0;32m---> 28\u001b[0m   env\u001b[39m.\u001b[39;49mstep(\u001b[39m0\u001b[39;49m)\n\u001b[1;32m     30\u001b[0m \u001b[39mwhile\u001b[39;00m training:\n\u001b[1;32m     31\u001b[0m   \u001b[39mtry\u001b[39;00m:\n",
      "File \u001b[0;32m~/src/FML/CSCN8010/venv/tensorflow_cpu/lib/python3.10/site-packages/gym/wrappers/order_enforcing.py:37\u001b[0m, in \u001b[0;36mOrderEnforcing.step\u001b[0;34m(self, action)\u001b[0m\n\u001b[1;32m     35\u001b[0m \u001b[39mif\u001b[39;00m \u001b[39mnot\u001b[39;00m \u001b[39mself\u001b[39m\u001b[39m.\u001b[39m_has_reset:\n\u001b[1;32m     36\u001b[0m     \u001b[39mraise\u001b[39;00m ResetNeeded(\u001b[39m\"\u001b[39m\u001b[39mCannot call env.step() before calling env.reset()\u001b[39m\u001b[39m\"\u001b[39m)\n\u001b[0;32m---> 37\u001b[0m \u001b[39mreturn\u001b[39;00m \u001b[39mself\u001b[39;49m\u001b[39m.\u001b[39;49menv\u001b[39m.\u001b[39;49mstep(action)\n",
      "File \u001b[0;32m~/src/FML/CSCN8010/venv/tensorflow_cpu/lib/python3.10/site-packages/gym/wrappers/env_checker.py:39\u001b[0m, in \u001b[0;36mPassiveEnvChecker.step\u001b[0;34m(self, action)\u001b[0m\n\u001b[1;32m     37\u001b[0m     \u001b[39mreturn\u001b[39;00m env_step_passive_checker(\u001b[39mself\u001b[39m\u001b[39m.\u001b[39menv, action)\n\u001b[1;32m     38\u001b[0m \u001b[39melse\u001b[39;00m:\n\u001b[0;32m---> 39\u001b[0m     \u001b[39mreturn\u001b[39;00m \u001b[39mself\u001b[39;49m\u001b[39m.\u001b[39;49menv\u001b[39m.\u001b[39;49mstep(action)\n",
      "File \u001b[0;32m~/src/FML/CSCN8010/venv/tensorflow_cpu/lib/python3.10/site-packages/ale_py/env/gym.py:256\u001b[0m, in \u001b[0;36mAtariEnv.step\u001b[0;34m(self, action_ind)\u001b[0m\n\u001b[1;32m    254\u001b[0m reward \u001b[39m=\u001b[39m \u001b[39m0.0\u001b[39m\n\u001b[1;32m    255\u001b[0m \u001b[39mfor\u001b[39;00m _ \u001b[39min\u001b[39;00m \u001b[39mrange\u001b[39m(frameskip):\n\u001b[0;32m--> 256\u001b[0m     reward \u001b[39m+\u001b[39m\u001b[39m=\u001b[39m \u001b[39mself\u001b[39;49m\u001b[39m.\u001b[39;49male\u001b[39m.\u001b[39;49mact(action)\n\u001b[1;32m    257\u001b[0m is_terminal \u001b[39m=\u001b[39m \u001b[39mself\u001b[39m\u001b[39m.\u001b[39male\u001b[39m.\u001b[39mgame_over(with_truncation\u001b[39m=\u001b[39m\u001b[39mFalse\u001b[39;00m)\n\u001b[1;32m    258\u001b[0m is_truncated \u001b[39m=\u001b[39m \u001b[39mself\u001b[39m\u001b[39m.\u001b[39male\u001b[39m.\u001b[39mgame_truncated()\n",
      "\u001b[0;31mKeyboardInterrupt\u001b[0m: "
     ]
    }
   ],
   "source": [
    "results = handler.train([dqn_agent], env)"
   ]
  },
  {
   "cell_type": "code",
   "execution_count": null,
   "metadata": {},
   "outputs": [],
   "source": [
    "env.unwrapped.get_action_meanings()"
   ]
  },
  {
   "cell_type": "code",
   "execution_count": null,
   "metadata": {},
   "outputs": [],
   "source": [
    "import matplotlib.pyplot as plt\n",
    "env.reset()\n",
    "obs = env.render()\n",
    "plt.imshow(obs)"
   ]
  },
  {
   "cell_type": "code",
   "execution_count": null,
   "metadata": {},
   "outputs": [],
   "source": [
    "vertical_crop_start   = 0       # @param{type:\"integer\"}\n",
    "vertical_crop_end     = 171       # @param{type:\"integer\"}\n",
    "horizontal_crop_start = 0         # @param{type:\"integer\"}\n",
    "horizontal_crop_end   = 160       # @param{type:\"integer\"}\n",
    "cropped_obs = obs[vertical_crop_start:vertical_crop_end, horizontal_crop_start:horizontal_crop_end]\n",
    "plt.imshow(cropped_obs)\n",
    "cropped_obs.shape"
   ]
  }
 ],
 "metadata": {
  "kernelspec": {
   "display_name": "tensorflow_cpu",
   "language": "python",
   "name": "tensorflow_cpu"
  },
  "language_info": {
   "codemirror_mode": {
    "name": "ipython",
    "version": 3
   },
   "file_extension": ".py",
   "mimetype": "text/x-python",
   "name": "python",
   "nbconvert_exporter": "python",
   "pygments_lexer": "ipython3",
   "version": "3.10.12"
  },
  "orig_nbformat": 4
 },
 "nbformat": 4,
 "nbformat_minor": 2
}
