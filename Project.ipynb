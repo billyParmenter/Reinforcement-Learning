{
 "cells": [
  {
   "cell_type": "code",
   "execution_count": 1,
   "metadata": {},
   "outputs": [
    {
     "name": "stderr",
     "output_type": "stream",
     "text": [
      "2023-11-13 16:27:49.333546: I tensorflow/core/platform/cpu_feature_guard.cc:182] This TensorFlow binary is optimized to use available CPU instructions in performance-critical operations.\n",
      "To enable the following instructions: AVX2 FMA, in other operations, rebuild TensorFlow with the appropriate compiler flags.\n"
     ]
    }
   ],
   "source": [
    "import gym\n",
    "from agent import Agent\n",
    "import seaborn as sns\n",
    "import matplotlib.pyplot as plt\n",
    "import numpy as np"
   ]
  },
  {
   "cell_type": "code",
   "execution_count": 2,
   "metadata": {},
   "outputs": [],
   "source": [
    "def describe_env(env: gym.Env):\n",
    "    num_actions = env.action_space.n\n",
    "    obs = env.observation_space\n",
    "    num_obs = env.observation_space.shape\n",
    "\n",
    "    print(\"Observation space: \", obs)\n",
    "    print(\"Observation space size: \", num_obs)\n",
    "    print(\"Number of actions: \", num_actions)\n",
    "\n",
    "    return num_obs, num_actions"
   ]
  },
  {
   "cell_type": "code",
   "execution_count": 3,
   "metadata": {},
   "outputs": [],
   "source": [
    "def plot(results, result_index, window_size, title):\n",
    "  plt.figure(figsize=(25, 10))\n",
    "\n",
    "  for result in results:\n",
    "      sns.lineplot(np.convolve(result[result_index], np.ones(window_size) / window_size, mode='same'), label=f\"(LR, EF) {(result[2]) }\")\n",
    "      \n",
    "  plt.title(title)\n",
    "  plt.legend()\n",
    "  plt.show()"
   ]
  },
  {
   "cell_type": "code",
   "execution_count": 4,
   "metadata": {},
   "outputs": [
    {
     "name": "stderr",
     "output_type": "stream",
     "text": [
      "A.L.E: Arcade Learning Environment (version 0.8.1+53f58b7)\n",
      "[Powered by Stella]\n"
     ]
    },
    {
     "name": "stdout",
     "output_type": "stream",
     "text": [
      "Observation space:  Box(0, 255, (210, 160, 3), uint8)\n",
      "Observation space size:  (210, 160, 3)\n",
      "Number of actions:  9\n"
     ]
    }
   ],
   "source": [
    "\n",
    "env = gym.make('MsPacman-v4')\n",
    "\n",
    "num_obs, num_actions = describe_env(env)"
   ]
  },
  {
   "cell_type": "code",
   "execution_count": 7,
   "metadata": {},
   "outputs": [
    {
     "name": "stdout",
     "output_type": "stream",
     "text": [
      "Started Training...\n",
      "\n",
      "\tEpisode 0/29 0%\n",
      "\tEpisode 29/29 100%\n",
      "\n",
      "Done training!\n"
     ]
    }
   ],
   "source": [
    "\n",
    "agent = Agent({\n",
    "  \"num_obs\": num_obs,\n",
    "  \"num_actions\": num_actions,\n",
    "  \"learning_rate\": 0.01,\n",
    "  \"discount_factor\": 0.9,\n",
    "  \"exploration_factor\": 0.2,\n",
    "  \"num_episodes\": 29,\n",
    "  \"max_steps\": 1,\n",
    "  \"verbose\": 0,\n",
    "  \"notify_percent\": 50\n",
    "})\n",
    "\n",
    "result = agent.train(env)"
   ]
  },
  {
   "cell_type": "code",
   "execution_count": null,
   "metadata": {},
   "outputs": [],
   "source": []
  }
 ],
 "metadata": {
  "kernelspec": {
   "display_name": "tensorflow_cpu",
   "language": "python",
   "name": "tensorflow_cpu"
  },
  "language_info": {
   "codemirror_mode": {
    "name": "ipython",
    "version": 3
   },
   "file_extension": ".py",
   "mimetype": "text/x-python",
   "name": "python",
   "nbconvert_exporter": "python",
   "pygments_lexer": "ipython3",
   "version": "3.10.12"
  },
  "orig_nbformat": 4
 },
 "nbformat": 4,
 "nbformat_minor": 2
}
