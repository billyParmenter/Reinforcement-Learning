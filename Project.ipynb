{
 "cells": [
  {
   "cell_type": "code",
   "execution_count": null,
   "metadata": {},
   "outputs": [],
   "source": [
    "import utils as Utils\n",
    "import numpy as np\n",
    "import json\n",
    "import gym\n",
    "\n",
    "from dueling_dqn_agent import DuelingDQN_Agent\n",
    "from double_dqn_agent import Double_DQN_Agent\n",
    "from agent_handler import Agent_handler\n",
    "from dqn_agent import DQN_Agent"
   ]
  },
  {
   "cell_type": "markdown",
   "metadata": {},
   "source": [
    "Initialize the environment and get the number of observations and actions to be given to the agents"
   ]
  },
  {
   "cell_type": "code",
   "execution_count": null,
   "metadata": {},
   "outputs": [],
   "source": [
    "env = gym.make('MsPacman-v4', render_mode='rgb_array')\n",
    "\n",
    "num_obs, num_actions = Utils.describe_env(env)"
   ]
  },
  {
   "cell_type": "markdown",
   "metadata": {},
   "source": [
    "The following parameters will be shared across the agents"
   ]
  },
  {
   "cell_type": "code",
   "execution_count": null,
   "metadata": {},
   "outputs": [],
   "source": [
    "params = {\n",
    "  \"num_obs\": (4, 86, 80),\n",
    "  \"num_actions\": num_actions,\n",
    "  \"update_rate\": 20,\n",
    "  \"learning_rate\": 0.00005,\n",
    "  \"discount_factor\": 0.95,\n",
    "  \"exploration_factor\": 1,\n",
    "  \"min_exploration_rate\": 0.05,\n",
    "  \"exploration_decay\": 0.995,\n",
    "  \"batch_size\": 16,\n",
    "}"
   ]
  },
  {
   "cell_type": "code",
   "execution_count": null,
   "metadata": {},
   "outputs": [],
   "source": [
    "agents = []\n",
    "\n",
    "agents.append(DQN_Agent(params))\n",
    "agents.append(Double_DQN_Agent(params))\n",
    "agents.append(DuelingDQN_Agent(params))\n"
   ]
  },
  {
   "cell_type": "markdown",
   "metadata": {},
   "source": [
    "Initialize the handler"
   ]
  },
  {
   "cell_type": "code",
   "execution_count": null,
   "metadata": {},
   "outputs": [],
   "source": [
    "handler = Agent_handler({\n",
    "  \"num_episodes\":100,\n",
    "  \"max_steps\":5000,\n",
    "  \"notify_percent\":10,\n",
    "  \"skip\": 85,\n",
    "  \"checkpoint_interval\": 100,\n",
    "  \"crop\": {\n",
    "    \"top\": 0,\n",
    "    \"bottom\": -39,\n",
    "    \"left\": 0,\n",
    "    \"right\": -1,\n",
    "  }\n",
    "})"
   ]
  },
  {
   "cell_type": "markdown",
   "metadata": {},
   "source": [
    "Train and save the results"
   ]
  },
  {
   "cell_type": "code",
   "execution_count": null,
   "metadata": {},
   "outputs": [],
   "source": [
    "results = handler.train(agents, env)\n",
    "\n",
    "output_file_path = \"results.json\"\n",
    "with open(output_file_path, \"w\") as json_file:\n",
    "  json.dump(results, json_file)\n",
    "\n",
    "print(f\"Results saved to {output_file_path}\")"
   ]
  },
  {
   "cell_type": "markdown",
   "metadata": {},
   "source": [
    "Load and plot the results"
   ]
  },
  {
   "cell_type": "code",
   "execution_count": null,
   "metadata": {},
   "outputs": [],
   "source": [
    "with open('results2.json', 'r') as file:\n",
    "    results = json.load(file)"
   ]
  },
  {
   "cell_type": "code",
   "execution_count": null,
   "metadata": {},
   "outputs": [],
   "source": [
    "window_size = 5\n",
    "\n",
    "for agent, result in results.items():\n",
    "  moving_average = np.convolve(result[\"rewards\"], np.ones(window_size)/window_size, mode='valid')\n",
    "\n",
    "  padding = np.full(5 - 1, 0)\n",
    "  result_array = np.concatenate([padding, moving_average])\n",
    "  result[\"rewards averages\"] = result_array\n",
    "  Utils.plot_results(result, agent)"
   ]
  }
 ],
 "metadata": {
  "kernelspec": {
   "display_name": "base",
   "language": "python",
   "name": "python3"
  },
  "language_info": {
   "codemirror_mode": {
    "name": "ipython",
    "version": 3
   },
   "file_extension": ".py",
   "mimetype": "text/x-python",
   "name": "python",
   "nbconvert_exporter": "python",
   "pygments_lexer": "ipython3",
   "version": "3.10.2"
  },
  "orig_nbformat": 4
 },
 "nbformat": 4,
 "nbformat_minor": 2
}
