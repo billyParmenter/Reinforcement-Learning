{
 "cells": [
  {
   "cell_type": "code",
   "execution_count": 1,
   "metadata": {},
   "outputs": [
    {
     "name": "stdout",
     "output_type": "stream",
     "text": [
      "Loaded at 11-27 10:17\n"
     ]
    }
   ],
   "source": [
    "from dqn_agent import DQN_Agent\n",
    "from datetime import datetime\n",
    "loaded_agent = DQN_Agent(file=\"8_10_checkpoint\")\n",
    "print(f'Loaded at {datetime.now().strftime(\"%m-%d %H:%M\")}')"
   ]
  },
  {
   "cell_type": "code",
   "execution_count": 2,
   "metadata": {},
   "outputs": [
    {
     "ename": "",
     "evalue": "",
     "output_type": "error",
     "traceback": [
      "\u001b[1;31mThe Kernel crashed while executing code in the the current cell or a previous cell. Please review the code in the cell(s) to identify a possible cause of the failure. Click <a href='https://aka.ms/vscodeJupyterKernelCrash'>here</a> for more info. View Jupyter <a href='command:jupyter.viewOutput'>log</a> for further details."
     ]
    }
   ],
   "source": [
    "from collections import deque\n",
    "import gym\n",
    "\n",
    "from assignment3_utils import process_frame\n",
    "env = gym.make('PongDeterministic-v4', render_mode='human')\n",
    "done = False\n",
    "break_loop = False\n",
    "\n",
    "state_reset = env.reset()\n",
    "\n",
    "crop = {\n",
    "      \"top\": 33,\n",
    "      \"bottom\": -16,\n",
    "      \"left\": 20,\n",
    "      \"right\": -1,\n",
    "  }\n",
    "\n",
    "frame = process_frame(state_reset[0], crop)\n",
    "images = deque(maxlen=4)\n",
    "images.append(frame)\n",
    "\n",
    "for _ in range(15):\n",
    "    state_step = env.step(0)\n",
    "    frame = process_frame(state_step[0], crop)\n",
    "    images.append(frame)\n",
    "\n",
    "while not done and not break_loop:\n",
    "    \n",
    "    action = loaded_agent.select_action(images)\n",
    "    next_state = env.step(action)\n",
    "    next_frame = process_frame(next_state[0], crop)\n",
    "    images.append(next_frame)\n"
   ]
  }
 ],
 "metadata": {
  "kernelspec": {
   "display_name": "tensorflow_cpu",
   "language": "python",
   "name": "tensorflow_cpu"
  },
  "language_info": {
   "codemirror_mode": {
    "name": "ipython",
    "version": 3
   },
   "file_extension": ".py",
   "mimetype": "text/x-python",
   "name": "python",
   "nbconvert_exporter": "python",
   "pygments_lexer": "ipython3",
   "version": "3.10.2"
  }
 },
 "nbformat": 4,
 "nbformat_minor": 2
}
