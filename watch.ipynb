{
 "cells": [
  {
   "cell_type": "code",
   "execution_count": 1,
   "metadata": {},
   "outputs": [
    {
     "name": "stdout",
     "output_type": "stream",
     "text": [
      "WARNING:tensorflow:From c:\\Python310\\lib\\site-packages\\keras\\src\\losses.py:2976: The name tf.losses.sparse_softmax_cross_entropy is deprecated. Please use tf.compat.v1.losses.sparse_softmax_cross_entropy instead.\n",
      "\n"
     ]
    },
    {
     "ename": "FileNotFoundError",
     "evalue": "[Errno 2] No such file or directory: 'models/16_20_best_params.json'",
     "output_type": "error",
     "traceback": [
      "\u001b[1;31m---------------------------------------------------------------------------\u001b[0m",
      "\u001b[1;31mFileNotFoundError\u001b[0m                         Traceback (most recent call last)",
      "\u001b[1;32md:\\Source\\AI&ML\\RL\\Reinforcement-Learning\\watch.ipynb Cell 1\u001b[0m line \u001b[0;36m1\n\u001b[0;32m     <a href='vscode-notebook-cell:/d%3A/Source/AI%26ML/RL/Reinforcement-Learning/watch.ipynb#W0sZmlsZQ%3D%3D?line=10'>11</a>\u001b[0m \u001b[39mtype\u001b[39m \u001b[39m=\u001b[39m \u001b[39m\"\u001b[39m\u001b[39mbest\u001b[39m\u001b[39m\"\u001b[39m\n\u001b[0;32m     <a href='vscode-notebook-cell:/d%3A/Source/AI%26ML/RL/Reinforcement-Learning/watch.ipynb#W0sZmlsZQ%3D%3D?line=11'>12</a>\u001b[0m \u001b[39m# type = \"checkpoint\"\u001b[39;00m\n\u001b[0;32m     <a href='vscode-notebook-cell:/d%3A/Source/AI%26ML/RL/Reinforcement-Learning/watch.ipynb#W0sZmlsZQ%3D%3D?line=12'>13</a>\u001b[0m \u001b[39m# type = \"final\"\u001b[39;00m\n\u001b[1;32m---> <a href='vscode-notebook-cell:/d%3A/Source/AI%26ML/RL/Reinforcement-Learning/watch.ipynb#W0sZmlsZQ%3D%3D?line=14'>15</a>\u001b[0m loaded_agent \u001b[39m=\u001b[39m DQN_Agent(file\u001b[39m=\u001b[39;49m\u001b[39mf\u001b[39;49m\u001b[39m'\u001b[39;49m\u001b[39m{\u001b[39;49;00mname\u001b[39m}\u001b[39;49;00m\u001b[39m_\u001b[39;49m\u001b[39m{\u001b[39;49;00m\u001b[39mtype\u001b[39;49m\u001b[39m}\u001b[39;49;00m\u001b[39m'\u001b[39;49m)\n\u001b[0;32m     <a href='vscode-notebook-cell:/d%3A/Source/AI%26ML/RL/Reinforcement-Learning/watch.ipynb#W0sZmlsZQ%3D%3D?line=16'>17</a>\u001b[0m \u001b[39mprint\u001b[39m(\u001b[39mf\u001b[39m\u001b[39m'\u001b[39m\u001b[39mLoaded at \u001b[39m\u001b[39m{\u001b[39;00mdatetime\u001b[39m.\u001b[39mnow()\u001b[39m.\u001b[39mstrftime(\u001b[39m\"\u001b[39m\u001b[39m%\u001b[39m\u001b[39mm-\u001b[39m\u001b[39m%d\u001b[39;00m\u001b[39m \u001b[39m\u001b[39m%\u001b[39m\u001b[39mH:\u001b[39m\u001b[39m%\u001b[39m\u001b[39mM\u001b[39m\u001b[39m\"\u001b[39m)\u001b[39m}\u001b[39;00m\u001b[39m'\u001b[39m)\n",
      "File \u001b[1;32md:\\Source\\AI&ML\\RL\\Reinforcement-Learning\\dqn_agent.py:19\u001b[0m, in \u001b[0;36mDQN_Agent.__init__\u001b[1;34m(self, agent_params, file)\u001b[0m\n\u001b[0;32m     16\u001b[0m \u001b[39mself\u001b[39m\u001b[39m.\u001b[39mreplay_buffer \u001b[39m=\u001b[39m deque(maxlen\u001b[39m=\u001b[39m\u001b[39m5000\u001b[39m)\n\u001b[0;32m     18\u001b[0m \u001b[39mif\u001b[39;00m file:\n\u001b[1;32m---> 19\u001b[0m   \u001b[39mself\u001b[39;49m\u001b[39m.\u001b[39;49mload(file)\n\u001b[0;32m     21\u001b[0m \u001b[39melif\u001b[39;00m agent_params:\n\u001b[0;32m     22\u001b[0m   \u001b[39mself\u001b[39m\u001b[39m.\u001b[39minit_params(agent_params)\n",
      "File \u001b[1;32md:\\Source\\AI&ML\\RL\\Reinforcement-Learning\\dqn_agent.py:80\u001b[0m, in \u001b[0;36mDQN_Agent.load\u001b[1;34m(self, file)\u001b[0m\n\u001b[0;32m     78\u001b[0m \u001b[39mdef\u001b[39;00m \u001b[39mload\u001b[39m(\u001b[39mself\u001b[39m, file):\n\u001b[0;32m     79\u001b[0m   \u001b[39m# Load agent_params\u001b[39;00m\n\u001b[1;32m---> 80\u001b[0m   \u001b[39mwith\u001b[39;00m \u001b[39mopen\u001b[39;49m(\u001b[39mf\u001b[39;49m\u001b[39m'\u001b[39;49m\u001b[39mmodels/\u001b[39;49m\u001b[39m{\u001b[39;49;00mfile\u001b[39m}\u001b[39;49;00m\u001b[39m_params.json\u001b[39;49m\u001b[39m'\u001b[39;49m, \u001b[39m\"\u001b[39;49m\u001b[39mr\u001b[39;49m\u001b[39m\"\u001b[39;49m) \u001b[39mas\u001b[39;00m params_file:\n\u001b[0;32m     81\u001b[0m     params_data \u001b[39m=\u001b[39m json\u001b[39m.\u001b[39mload(params_file)\n\u001b[0;32m     82\u001b[0m     \u001b[39mself\u001b[39m\u001b[39m.\u001b[39minit_params(params_data)\n",
      "\u001b[1;31mFileNotFoundError\u001b[0m: [Errno 2] No such file or directory: 'models/16_20_best_params.json'"
     ]
    }
   ],
   "source": [
    "from dqn_agent import DQN_Agent\n",
    "from datetime import datetime\n",
    "from collections import deque\n",
    "import gym\n",
    "from assignment3_utils import process_frame\n",
    "import numpy as np\n",
    "import tensorflow as tf\n",
    "# name = \"8_10\"\n",
    "# name = \"8_3\"\n",
    "name = \"16_20\"\n",
    "type = \"best\"\n",
    "# type = \"checkpoint\"\n",
    "# type = \"final\"\n",
    "\n",
    "loaded_agent = DQN_Agent(file=f'{name}_{type}')\n",
    "\n",
    "print(f'Loaded at {datetime.now().strftime(\"%m-%d %H:%M\")}')"
   ]
  },
  {
   "cell_type": "code",
   "execution_count": null,
   "metadata": {},
   "outputs": [
    {
     "name": "stderr",
     "output_type": "stream",
     "text": [
      "c:\\Python310\\lib\\site-packages\\gym\\utils\\passive_env_checker.py:233: DeprecationWarning: `np.bool8` is a deprecated alias for `np.bool_`.  (Deprecated NumPy 1.24)\n",
      "  if not isinstance(terminated, (bool, np.bool8)):\n"
     ]
    },
    {
     "ename": "",
     "evalue": "",
     "output_type": "error",
     "traceback": [
      "\u001b[1;31mThe Kernel crashed while executing code in the the current cell or a previous cell. Please review the code in the cell(s) to identify a possible cause of the failure. Click <a href='https://aka.ms/vscodeJupyterKernelCrash'>here</a> for more info. View Jupyter <a href='command:jupyter.viewOutput'>log</a> for further details."
     ]
    }
   ],
   "source": [
    "from collections import deque\n",
    "import gym\n",
    "from assignment3_utils import process_frame\n",
    "import numpy as np\n",
    "\n",
    "\n",
    "env = gym.make('MsPacman-v4', render_mode='human')\n",
    "done = False\n",
    "break_loop = False\n",
    "\n",
    "crop = {\n",
    "    \"top\": 0,\n",
    "    \"bottom\": -39,\n",
    "    \"left\": 0,\n",
    "    \"right\": -1,\n",
    "}\n",
    "\n",
    "state_reset = env.reset()\n",
    "frame = process_frame(state_reset[0], crop)\n",
    "images = deque(maxlen=4)\n",
    "images.append(frame)\n",
    "\n",
    "for _ in range(15):\n",
    "    state_step = env.step(0)\n",
    "    frame = process_frame(state_step[0], crop)\n",
    "    images.append(frame)\n",
    "\n",
    "while not done and not break_loop:\n",
    "    \n",
    "    action = loaded_agent.select_action(images)\n",
    "    next_state = env.step(action)\n",
    "    next_frame = process_frame(next_state[0], crop)\n",
    "    images.append(next_frame)\n"
   ]
  }
 ],
 "metadata": {
  "kernelspec": {
   "display_name": "Python 3",
   "language": "python",
   "name": "python3"
  },
  "language_info": {
   "codemirror_mode": {
    "name": "ipython",
    "version": 3
   },
   "file_extension": ".py",
   "mimetype": "text/x-python",
   "name": "python",
   "nbconvert_exporter": "python",
   "pygments_lexer": "ipython3",
   "version": "3.10.2"
  }
 },
 "nbformat": 4,
 "nbformat_minor": 2
}
