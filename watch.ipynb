{
 "cells": [
  {
   "cell_type": "code",
   "execution_count": 3,
   "metadata": {},
   "outputs": [
    {
     "name": "stdout",
     "output_type": "stream",
     "text": [
      "Loaded at 12-06 01:51\n"
     ]
    }
   ],
   "source": [
    "from dqn_agent import DQN_Agent\n",
    "from datetime import datetime\n",
    "from collections import deque\n",
    "import gym\n",
    "from assignment3_utils import process_frame\n",
    "import numpy as np\n",
    "import tensorflow as tf\n",
    "# name = \"8_10\"\n",
    "name = \"8_3\"\n",
    "# type = \"best\"\n",
    "type = \"best\"\n",
    "# type = \"final\"\n",
    "\n",
    "loaded_agent = DQN_Agent(file=f'{name}_{type}')\n",
    "\n",
    "print(f'Loaded at {datetime.now().strftime(\"%m-%d %H:%M\")}')"
   ]
  },
  {
   "cell_type": "code",
   "execution_count": 10,
   "metadata": {},
   "outputs": [
    {
     "ename": "KeyboardInterrupt",
     "evalue": "",
     "output_type": "error",
     "traceback": [
      "\u001b[1;31m---------------------------------------------------------------------------\u001b[0m",
      "\u001b[1;31mKeyboardInterrupt\u001b[0m                         Traceback (most recent call last)",
      "\u001b[1;32md:\\Source\\AI&ML\\RL\\Reinforcement-Learning\\watch.ipynb Cell 2\u001b[0m line \u001b[0;36m3\n\u001b[0;32m     <a href='vscode-notebook-cell:/d%3A/Source/AI%26ML/RL/Reinforcement-Learning/watch.ipynb#W1sZmlsZQ%3D%3D?line=29'>30</a>\u001b[0m \u001b[39mwhile\u001b[39;00m \u001b[39mnot\u001b[39;00m done \u001b[39mand\u001b[39;00m \u001b[39mnot\u001b[39;00m break_loop:\n\u001b[0;32m     <a href='vscode-notebook-cell:/d%3A/Source/AI%26ML/RL/Reinforcement-Learning/watch.ipynb#W1sZmlsZQ%3D%3D?line=31'>32</a>\u001b[0m     action \u001b[39m=\u001b[39m loaded_agent\u001b[39m.\u001b[39mselect_action(images)\n\u001b[1;32m---> <a href='vscode-notebook-cell:/d%3A/Source/AI%26ML/RL/Reinforcement-Learning/watch.ipynb#W1sZmlsZQ%3D%3D?line=32'>33</a>\u001b[0m     next_state \u001b[39m=\u001b[39m env\u001b[39m.\u001b[39;49mstep(action)\n\u001b[0;32m     <a href='vscode-notebook-cell:/d%3A/Source/AI%26ML/RL/Reinforcement-Learning/watch.ipynb#W1sZmlsZQ%3D%3D?line=33'>34</a>\u001b[0m     next_frame \u001b[39m=\u001b[39m process_frame(next_state[\u001b[39m0\u001b[39m], crop)\n\u001b[0;32m     <a href='vscode-notebook-cell:/d%3A/Source/AI%26ML/RL/Reinforcement-Learning/watch.ipynb#W1sZmlsZQ%3D%3D?line=34'>35</a>\u001b[0m     images\u001b[39m.\u001b[39mappend(next_frame)\n",
      "File \u001b[1;32md:\\Source\\AI&ML\\FML\\CSCN8010\\venv\\tensorflow_cpu\\lib\\site-packages\\gym\\wrappers\\order_enforcing.py:37\u001b[0m, in \u001b[0;36mOrderEnforcing.step\u001b[1;34m(self, action)\u001b[0m\n\u001b[0;32m     35\u001b[0m \u001b[39mif\u001b[39;00m \u001b[39mnot\u001b[39;00m \u001b[39mself\u001b[39m\u001b[39m.\u001b[39m_has_reset:\n\u001b[0;32m     36\u001b[0m     \u001b[39mraise\u001b[39;00m ResetNeeded(\u001b[39m\"\u001b[39m\u001b[39mCannot call env.step() before calling env.reset()\u001b[39m\u001b[39m\"\u001b[39m)\n\u001b[1;32m---> 37\u001b[0m \u001b[39mreturn\u001b[39;00m \u001b[39mself\u001b[39;49m\u001b[39m.\u001b[39;49menv\u001b[39m.\u001b[39;49mstep(action)\n",
      "File \u001b[1;32md:\\Source\\AI&ML\\FML\\CSCN8010\\venv\\tensorflow_cpu\\lib\\site-packages\\gym\\wrappers\\env_checker.py:39\u001b[0m, in \u001b[0;36mPassiveEnvChecker.step\u001b[1;34m(self, action)\u001b[0m\n\u001b[0;32m     37\u001b[0m     \u001b[39mreturn\u001b[39;00m env_step_passive_checker(\u001b[39mself\u001b[39m\u001b[39m.\u001b[39menv, action)\n\u001b[0;32m     38\u001b[0m \u001b[39melse\u001b[39;00m:\n\u001b[1;32m---> 39\u001b[0m     \u001b[39mreturn\u001b[39;00m \u001b[39mself\u001b[39;49m\u001b[39m.\u001b[39;49menv\u001b[39m.\u001b[39;49mstep(action)\n",
      "File \u001b[1;32md:\\Source\\AI&ML\\FML\\CSCN8010\\venv\\tensorflow_cpu\\lib\\site-packages\\ale_py\\env\\gym.py:256\u001b[0m, in \u001b[0;36mAtariEnv.step\u001b[1;34m(self, action_ind)\u001b[0m\n\u001b[0;32m    254\u001b[0m reward \u001b[39m=\u001b[39m \u001b[39m0.0\u001b[39m\n\u001b[0;32m    255\u001b[0m \u001b[39mfor\u001b[39;00m _ \u001b[39min\u001b[39;00m \u001b[39mrange\u001b[39m(frameskip):\n\u001b[1;32m--> 256\u001b[0m     reward \u001b[39m+\u001b[39m\u001b[39m=\u001b[39m \u001b[39mself\u001b[39m\u001b[39m.\u001b[39male\u001b[39m.\u001b[39mact(action)\n\u001b[0;32m    257\u001b[0m is_terminal \u001b[39m=\u001b[39m \u001b[39mself\u001b[39m\u001b[39m.\u001b[39male\u001b[39m.\u001b[39mgame_over(with_truncation\u001b[39m=\u001b[39m\u001b[39mFalse\u001b[39;00m)\n\u001b[0;32m    258\u001b[0m is_truncated \u001b[39m=\u001b[39m \u001b[39mself\u001b[39m\u001b[39m.\u001b[39male\u001b[39m.\u001b[39mgame_truncated()\n",
      "\u001b[1;31mKeyboardInterrupt\u001b[0m: "
     ]
    }
   ],
   "source": [
    "from collections import deque\n",
    "import gym\n",
    "from assignment3_utils import process_frame\n",
    "import numpy as np\n",
    "\n",
    "# Assuming loaded_agent is an instance of DQN_Agent_PyTorch\n",
    "# with the correct neural network architecture\n",
    "\n",
    "env = gym.make('MsPacman-v4', render_mode='human')\n",
    "done = False\n",
    "break_loop = False\n",
    "\n",
    "crop = {\n",
    "    \"top\": 0,\n",
    "    \"bottom\": -39,\n",
    "    \"left\": 0,\n",
    "    \"right\": -1,\n",
    "}\n",
    "\n",
    "state_reset = env.reset()\n",
    "frame = process_frame(state_reset[0], crop)\n",
    "images = deque(maxlen=4)\n",
    "images.append(frame)\n",
    "\n",
    "for _ in range(15):\n",
    "    state_step = env.step(0)\n",
    "    frame = process_frame(state_step[0], crop)\n",
    "    images.append(frame)\n",
    "\n",
    "while not done and not break_loop:\n",
    "    \n",
    "    action = loaded_agent.select_action(images)\n",
    "    next_state = env.step(action)\n",
    "    next_frame = process_frame(next_state[0], crop)\n",
    "    images.append(next_frame)\n"
   ]
  }
 ],
 "metadata": {
  "kernelspec": {
   "display_name": "Python 3",
   "language": "python",
   "name": "python3"
  },
  "language_info": {
   "codemirror_mode": {
    "name": "ipython",
    "version": 3
   },
   "file_extension": ".py",
   "mimetype": "text/x-python",
   "name": "python",
   "nbconvert_exporter": "python",
   "pygments_lexer": "ipython3",
   "version": "3.10.2"
  }
 },
 "nbformat": 4,
 "nbformat_minor": 2
}
