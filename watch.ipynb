{
 "cells": [
  {
   "cell_type": "code",
   "execution_count": 1,
   "metadata": {},
   "outputs": [
    {
     "name": "stdout",
     "output_type": "stream",
     "text": [
      "Using CPU\n",
      "Loaded at 11-30 01:31\n"
     ]
    }
   ],
   "source": [
    "from pytorch_dqn_agent import DQN_Agent_PyTorch\n",
    "from datetime import datetime\n",
    "# name = \"8_10\"\n",
    "name = \"8_3\"\n",
    "# type = \"best\"\n",
    "type = \"best\"\n",
    "# type = \"final\"\n",
    "\n",
    "loaded_agent = DQN_Agent_PyTorch(file=f'{name}_{type}')\n",
    "\n",
    "print(f'Loaded at {datetime.now().strftime(\"%m-%d %H:%M\")}')"
   ]
  },
  {
   "cell_type": "code",
   "execution_count": 2,
   "metadata": {},
   "outputs": [
    {
     "name": "stderr",
     "output_type": "stream",
     "text": [
      "d:\\Source\\AI&ML\\FML\\CSCN8010\\venv\\pytorch_cpu\\lib\\site-packages\\gym\\utils\\passive_env_checker.py:233: DeprecationWarning: `np.bool8` is a deprecated alias for `np.bool_`.  (Deprecated NumPy 1.24)\n",
      "  if not isinstance(terminated, (bool, np.bool8)):\n"
     ]
    },
    {
     "ename": "",
     "evalue": "",
     "output_type": "error",
     "traceback": [
      "\u001b[1;31mThe Kernel crashed while executing code in the the current cell or a previous cell. Please review the code in the cell(s) to identify a possible cause of the failure. Click <a href='https://aka.ms/vscodeJupyterKernelCrash'>here</a> for more info. View Jupyter <a href='command:jupyter.viewOutput'>log</a> for further details."
     ]
    }
   ],
   "source": [
    "from collections import deque\n",
    "import gym\n",
    "from assignment3_utils import process_frame\n",
    "import numpy as np\n",
    "import torch\n",
    "\n",
    "# Assuming loaded_agent is an instance of DQN_Agent_PyTorch\n",
    "# with the correct neural network architecture\n",
    "\n",
    "env = gym.make('PongDeterministic-v4', render_mode='human')\n",
    "done = False\n",
    "break_loop = False\n",
    "\n",
    "crop = {\n",
    "    \"top\": 33,\n",
    "    \"bottom\": -16,\n",
    "    \"left\": 0,\n",
    "    \"right\": -1,\n",
    "}\n",
    "\n",
    "state_reset = env.reset()\n",
    "frame = process_frame(state_reset[0], crop)\n",
    "images = deque(maxlen=4)\n",
    "images.append(frame)\n",
    "\n",
    "for _ in range(15):\n",
    "    state_step = env.step(0)\n",
    "    frame = process_frame(state_step[0], crop)\n",
    "    images.append(frame)\n",
    "\n",
    "while not done and not break_loop:\n",
    "    # Get the state as a single tensor\n",
    "    state_array = np.array(images)\n",
    "    state_tensor = torch.from_numpy(state_array).unsqueeze(0).float().to(loaded_agent.device)\n",
    "\n",
    "    # Use the neural network to get Q values\n",
    "    q_values_state = loaded_agent.q_network(state_tensor).detach().cpu().numpy()\n",
    "\n",
    "    # Assuming select_greedy_action is the function that chooses the action with the highest Q value\n",
    "    action = loaded_agent.select_greedy_action(images)\n",
    "\n",
    "    next_state, _, done, _, _ = env.step(action)\n",
    "    next_frame = process_frame(next_state, crop)\n",
    "    images.append(next_frame)\n"
   ]
  }
 ],
 "metadata": {
  "kernelspec": {
   "display_name": "pytorch_cpu",
   "language": "python",
   "name": "pytorch_cpu"
  },
  "language_info": {
   "codemirror_mode": {
    "name": "ipython",
    "version": 3
   },
   "file_extension": ".py",
   "mimetype": "text/x-python",
   "name": "python",
   "nbconvert_exporter": "python",
   "pygments_lexer": "ipython3",
   "version": "3.10.2"
  }
 },
 "nbformat": 4,
 "nbformat_minor": 2
}
