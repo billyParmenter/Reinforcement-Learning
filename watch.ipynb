{
 "cells": [
  {
   "cell_type": "code",
   "execution_count": null,
   "metadata": {},
   "outputs": [],
   "source": [
    "from datetime import datetime"
   ]
  },
  {
   "cell_type": "markdown",
   "metadata": {},
   "source": [
    "Chose the kind of checkpoint"
   ]
  },
  {
   "cell_type": "code",
   "execution_count": 3,
   "metadata": {},
   "outputs": [],
   "source": [
    "# type = \"best\"\n",
    "# type = \"checkpoint\"\n",
    "type = \"final\""
   ]
  },
  {
   "cell_type": "markdown",
   "metadata": {},
   "source": [
    "Choose what model to load"
   ]
  },
  {
   "cell_type": "code",
   "execution_count": 4,
   "metadata": {},
   "outputs": [
    {
     "name": "stdout",
     "output_type": "stream",
     "text": [
      "WARNING:tensorflow:From c:\\Python310\\lib\\site-packages\\keras\\src\\backend.py:1398: The name tf.executing_eagerly_outside_functions is deprecated. Please use tf.compat.v1.executing_eagerly_outside_functions instead.\n",
      "\n",
      "Loaded at 12-13 21:40\n"
     ]
    }
   ],
   "source": [
    "from dqn_agent import DQN_Agent\n",
    "\n",
    "name = \"DQN\"\n",
    "\n",
    "loaded_agent = DQN_Agent(file=f'{name}_{type}')\n",
    "print(f'Loaded at {datetime.now().strftime(\"%m-%d %H:%M\")}')"
   ]
  },
  {
   "cell_type": "code",
   "execution_count": 5,
   "metadata": {},
   "outputs": [
    {
     "name": "stdout",
     "output_type": "stream",
     "text": [
      "Loaded at 12-13 21:40\n"
     ]
    }
   ],
   "source": [
    "from double_dqn_agent import Double_DQN_Agent\n",
    "\n",
    "name = \"Double_DQN\"\n",
    "\n",
    "loaded_agent = Double_DQN_Agent(file=f'{name}_{type}')\n",
    "print(f'Loaded at {datetime.now().strftime(\"%m-%d %H:%M\")}')"
   ]
  },
  {
   "cell_type": "code",
   "execution_count": 6,
   "metadata": {},
   "outputs": [
    {
     "name": "stdout",
     "output_type": "stream",
     "text": [
      "Loaded at 12-13 21:40\n"
     ]
    }
   ],
   "source": [
    "from dueling_dqn_agent import DuelingDQN_Agent\n",
    "\n",
    "name = \"Dueling_DQN\"\n",
    "\n",
    "loaded_agent = DuelingDQN_Agent(file=f'{name}_{type}')\n",
    "print(f'Loaded at {datetime.now().strftime(\"%m-%d %H:%M\")}')"
   ]
  },
  {
   "cell_type": "markdown",
   "metadata": {},
   "source": [
    "Watch the model play"
   ]
  },
  {
   "cell_type": "code",
   "execution_count": 7,
   "metadata": {},
   "outputs": [
    {
     "name": "stderr",
     "output_type": "stream",
     "text": [
      "c:\\Python310\\lib\\site-packages\\gym\\utils\\passive_env_checker.py:233: DeprecationWarning: `np.bool8` is a deprecated alias for `np.bool_`.  (Deprecated NumPy 1.24)\n",
      "  if not isinstance(terminated, (bool, np.bool8)):\n"
     ]
    },
    {
     "ename": "",
     "evalue": "",
     "output_type": "error",
     "traceback": [
      "\u001b[1;31mThe Kernel crashed while executing code in the the current cell or a previous cell. Please review the code in the cell(s) to identify a possible cause of the failure. Click <a href='https://aka.ms/vscodeJupyterKernelCrash'>here</a> for more info. View Jupyter <a href='command:jupyter.viewOutput'>log</a> for further details."
     ]
    }
   ],
   "source": [
    "from collections import deque\n",
    "import utils as Utils\n",
    "import gym\n",
    "\n",
    "env = gym.make('MsPacman-v4', render_mode='human')\n",
    "done = False\n",
    "break_loop = False\n",
    "\n",
    "crop = {\n",
    "    \"top\": 0,\n",
    "    \"bottom\": -39,\n",
    "    \"left\": 0,\n",
    "    \"right\": -1,\n",
    "}\n",
    "\n",
    "state_reset = env.reset()\n",
    "frame = Utils.process_frame(state_reset[0], crop)\n",
    "images = deque(maxlen=4)\n",
    "images.append(frame)\n",
    "\n",
    "for _ in range(85):\n",
    "    state_step = env.step(0)\n",
    "    frame = Utils.process_frame(state_step[0], crop)\n",
    "    images.append(frame)\n",
    "\n",
    "\n",
    "while not done and not break_loop:\n",
    "    \n",
    "    action = loaded_agent.select_action(images)\n",
    "    next_state = env.step(action)\n",
    "    next_frame = Utils.process_frame(next_state[0], crop)\n",
    "    images.append(next_frame)\n"
   ]
  }
 ],
 "metadata": {
  "kernelspec": {
   "display_name": "Python 3",
   "language": "python",
   "name": "python3"
  },
  "language_info": {
   "codemirror_mode": {
    "name": "ipython",
    "version": 3
   },
   "file_extension": ".py",
   "mimetype": "text/x-python",
   "name": "python",
   "nbconvert_exporter": "python",
   "pygments_lexer": "ipython3",
   "version": "3.10.2"
  }
 },
 "nbformat": 4,
 "nbformat_minor": 2
}
